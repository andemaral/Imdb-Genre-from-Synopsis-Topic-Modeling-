{
 "cells": [
  {
   "cell_type": "code",
   "execution_count": 1,
   "metadata": {},
   "outputs": [],
   "source": [
    "import numpy as np\n",
    "import pickle\n",
    "import dill"
   ]
  },
  {
   "cell_type": "code",
   "execution_count": 2,
   "metadata": {},
   "outputs": [],
   "source": [
    "def read_sinopsis(txt):\n",
    "    \"\"\"Obtiene un archivo y lo limpia de caracteres innecesarios\"\"\"\n",
    "    import string\n",
    "    import re\n",
    "    \n",
    "    #Eliminar Actores\n",
    "    sinopsis = re.sub(r'\\([A-Z].*?\\)', '', txt)\n",
    "    #Removemos caracteres innecesarios\n",
    "    sinopsis = sinopsis.replace(',','')  #comas\n",
    "    sinopsis = sinopsis.replace('\\'','') #comillas\n",
    "    sinopsis = sinopsis.replace('\"','')  #comillas\n",
    "    sinopsis = sinopsis.replace('\\n','') #\\n\n",
    "    sinopsis = ''.join(filter(lambda char: char in string.printable, sinopsis)) #Caracteres no imprimibles.\n",
    "    \n",
    "    return [sinopsis]"
   ]
  },
  {
   "cell_type": "code",
   "execution_count": 3,
   "metadata": {},
   "outputs": [],
   "source": [
    "dill.dump(read_sinopsis, open('read_sinopsis.pkl','wb'))"
   ]
  },
  {
   "cell_type": "markdown",
   "metadata": {},
   "source": [
    "----"
   ]
  },
  {
   "cell_type": "code",
   "execution_count": 4,
   "metadata": {},
   "outputs": [],
   "source": [
    "def sent_to_words(sentences):\n",
    "    \"\"\"Tokeniza y elimina puntuacion\"\"\"\n",
    "    import gensim\n",
    "    for sentence in sentences:\n",
    "        yield(gensim.utils.simple_preprocess(str(sentence), deacc=True))  # deacc=True elimina puntuacion"
   ]
  },
  {
   "cell_type": "code",
   "execution_count": 5,
   "metadata": {},
   "outputs": [],
   "source": [
    "dill.dump(sent_to_words, open('sent_to_words.pkl','wb'))"
   ]
  },
  {
   "cell_type": "markdown",
   "metadata": {},
   "source": [
    "---"
   ]
  },
  {
   "cell_type": "code",
   "execution_count": 6,
   "metadata": {},
   "outputs": [],
   "source": [
    "import nltk\n",
    "from nltk.corpus import stopwords\n",
    "\n",
    "#Importamos las StopWord para ingles\n",
    "stopwords = nltk.corpus.stopwords.words('english')\n",
    "\n",
    "#Importamos nombres propios\n",
    "sw_firstnames = open('names-first.txt', \"r\").readlines()\n",
    "sw_firstnames = [i.strip('\\n') if type(i) == str else str(i) for i in sw_firstnames]\n",
    "sw_firstnames = [x.lower() for x in sw_firstnames]\n",
    "\n",
    "#Agregamos a stopword \n",
    "stopwords.extend(sw_firstnames)"
   ]
  },
  {
   "cell_type": "code",
   "execution_count": 7,
   "metadata": {},
   "outputs": [],
   "source": [
    "pickle.dump(stopwords, open('stopwords.pkl','wb'))"
   ]
  },
  {
   "cell_type": "markdown",
   "metadata": {},
   "source": [
    "-----"
   ]
  },
  {
   "cell_type": "code",
   "execution_count": 8,
   "metadata": {},
   "outputs": [],
   "source": [
    "#Funcion para remover Stopwords\n",
    "def remove_stopwords(texts, stopwords):\n",
    "    \"\"\"Remueve stopwods\"\"\"\n",
    "    from gensim.utils import simple_preprocess\n",
    "    return [[word for word in simple_preprocess(str(doc)) if word not in stopwords] for doc in texts]"
   ]
  },
  {
   "cell_type": "code",
   "execution_count": 9,
   "metadata": {},
   "outputs": [],
   "source": [
    "dill.dump(remove_stopwords, open('remove_stopwords.pkl','wb'))"
   ]
  },
  {
   "cell_type": "markdown",
   "metadata": {},
   "source": [
    "----"
   ]
  },
  {
   "cell_type": "code",
   "execution_count": 10,
   "metadata": {},
   "outputs": [],
   "source": [
    "def lemmatization(texts, allowed_postags=['NOUN', 'ADJ', 'ADV']): #, 'VERB']):\n",
    "    \"\"\"https://spacy.io/api/annotation\n",
    "    Lemmatiza el texto y aplica cierto nivel de stemmer.\n",
    "    Por default, conserva solo 'NOUN', 'ADJ', 'ADV'\n",
    "    \"\"\"\n",
    "    import spacy\n",
    "    nlp = spacy.load('en', disable=['parser', 'ner'])\n",
    "    texts_out = []\n",
    "    for sent in texts:\n",
    "        doc = nlp(\" \".join(sent)) \n",
    "        texts_out.append(\" \".join([token.lemma_ if token.lemma_ not in ['-PRON-'] else '' for token in doc if token.pos_ in allowed_postags]))\n",
    "    return texts_out"
   ]
  },
  {
   "cell_type": "code",
   "execution_count": 11,
   "metadata": {},
   "outputs": [],
   "source": [
    "dill.dump(lemmatization, open('lemmatization.pkl','wb'))"
   ]
  },
  {
   "cell_type": "markdown",
   "metadata": {},
   "source": [
    "---"
   ]
  },
  {
   "cell_type": "code",
   "execution_count": 12,
   "metadata": {},
   "outputs": [],
   "source": [
    "def document_topic_genre_words(model, model_output, vectorizer, n_words=15): \n",
    "    \"\"\"\n",
    "    Genera df de relevancia de los topicos sobre el documento.\n",
    "    Tambien agrega el nombre del documento colocado a mano.\n",
    "    Por ultimo, genera df con las palabras del topico.\n",
    "    \"\"\"\n",
    "    import pandas as pd\n",
    "    \n",
    "    #Nombres de Columnas e indice\n",
    "    topicnames = [\"Topic\" + str(i) for i in range(model.n_components)]\n",
    "    docnames = [\"Sinopsis\"]\n",
    "    \n",
    "    #Generamos un dataframe\n",
    "    df_topic_relevance = pd.DataFrame(np.round(model_output, 2), columns=topicnames, index=docnames)\n",
    "    \n",
    "    #Obtenemos el topico dominante para el documento\n",
    "    dominant_topic = np.argmax(df_topic_relevance.values, axis=1)\n",
    "    df_topic_relevance['dominant_topic'] = dominant_topic\n",
    "    \n",
    "    #Asignamos el nombre del genero al df\n",
    "    generos = ['historical', 'thriller', 'horror', 'comedy', 'crime', 'drama', 'fantasy', 'fiction', 'romance', 'action']\n",
    "    df_topic_relevance['genre'] = generos[int(dominant_topic)]\n",
    "    \n",
    "    #Generamos df con palabras del topico\n",
    "    keywords = np.array(vectorizer.get_feature_names())\n",
    "    topic_keywords = []\n",
    "    for topic_weights in model.components_:\n",
    "        top_keyword_locs = (-topic_weights).argsort()[:n_words]\n",
    "        topic_keywords.append(keywords.take(top_keyword_locs))\n",
    "\n",
    "    # Topic - Keywords Dataframe\n",
    "    df_topic_keywords = pd.DataFrame(topic_keywords)\n",
    "    df_topic_keywords.columns = ['Word '+str(i) for i in range(df_topic_keywords.shape[1])]\n",
    "    df_topic_keywords.index = [i for i in range(df_topic_keywords.shape[0])]\n",
    "\n",
    "    return df_topic_relevance, generos[int(dominant_topic)], df_topic_keywords.iloc[[int(dominant_topic)]]"
   ]
  },
  {
   "cell_type": "code",
   "execution_count": 13,
   "metadata": {},
   "outputs": [],
   "source": [
    "dill.dump(document_topic_genre_words, open('document_topic_genre_words.pkl','wb'))"
   ]
  },
  {
   "cell_type": "markdown",
   "metadata": {},
   "source": [
    "---"
   ]
  },
  {
   "cell_type": "code",
   "execution_count": 14,
   "metadata": {},
   "outputs": [],
   "source": [
    "def metrics(model, data_vectorized):\n",
    "    \"\"\"\n",
    "    Devuelve las metricas del modelo relevado.\n",
    "    Log Likelihood y Perplexity\n",
    "    \"\"\"\n",
    "    # Log Likelyhood: Mas grande mejor\n",
    "    #print(\"Log Likelihood (cuanto mas grande, mejor): \", model.score(data_vectorized))\n",
    "\n",
    "    # Perplexity: Mas chico mejor. Perplexity = exp(-1. * log-likelihood per word)\n",
    "    #print(\"Perplexity (cuanto mas chico, mejor)     : \", model.perplexity(data_vectorized))\n",
    "    return model.score(data_vectorized), model.perplexity(data_vectorized)"
   ]
  },
  {
   "cell_type": "code",
   "execution_count": 15,
   "metadata": {},
   "outputs": [],
   "source": [
    "dill.dump(metrics, open('metrics.pkl','wb'))"
   ]
  },
  {
   "cell_type": "markdown",
   "metadata": {},
   "source": [
    "---"
   ]
  },
  {
   "cell_type": "code",
   "execution_count": 16,
   "metadata": {},
   "outputs": [],
   "source": [
    "def lda_plot(model, data_vectorized, vectorizer, mds='tsne'):\n",
    "    # Plotting tools\n",
    "    import pyLDAvis\n",
    "    import pyLDAvis.sklearn\n",
    "    import matplotlib.pyplot as plt\n",
    "    %matplotlib inline\n",
    "    # Warnings\n",
    "    import warnings\n",
    "    warnings.filterwarnings(\"ignore\")\n",
    "\n",
    "    pyLDAvis.enable_notebook()\n",
    "    panel = pyLDAvis.sklearn.prepare(model, data_vectorized, vectorizer, mds=mds, n_jobs=-1)\n",
    "    pyLDAvis.save_html(panel, 'lda_pkl.html') #Grabo el grafico en html"
   ]
  },
  {
   "cell_type": "code",
   "execution_count": 17,
   "metadata": {},
   "outputs": [],
   "source": [
    "dill.dump(lda_plot, open('lda_plot.pkl','wb'))"
   ]
  },
  {
   "cell_type": "markdown",
   "metadata": {},
   "source": [
    "---\n",
    "---\n",
    "---"
   ]
  },
  {
   "cell_type": "code",
   "execution_count": 18,
   "metadata": {},
   "outputs": [],
   "source": [
    "rs   = dill.load(open('read_sinopsis.pkl', 'rb'))\n",
    "sw   = dill.load(open('sent_to_words.pkl', 'rb'))\n",
    "stop = pickle.load(open('stopwords.pkl', 'rb'))\n",
    "rsw  = dill.load(open('remove_stopwords.pkl', 'rb'))\n",
    "lm   = dill.load(open('lemmatization.pkl', 'rb'))\n",
    "vec  = pickle.load(open('vectorizer.pkl', 'rb'))\n",
    "mod  = pickle.load(open('lda_model.pkl', 'rb'))\n",
    "dtgw = dill.load(open('document_topic_genre_words.pkl', 'rb'))\n",
    "met  = dill.load(open('metrics.pkl', 'rb'))\n",
    "plot = dill.load(open('lda_plot.pkl', 'rb'))"
   ]
  },
  {
   "cell_type": "code",
   "execution_count": 19,
   "metadata": {
    "scrolled": true
   },
   "outputs": [
    {
     "data": {
      "text/plain": [
       "['In a New York City courthouse an eighteen-year-old boy from a slum is on trial for allegedly stabbing his father to death. Final closing arguments having been presented a visibly bored judge instructs the jury to decide whether the boy is guilty of murder. If there is any reasonable doubt of his guilt they are to return a verdict of not guilty. The judge further informs them that a guilty verdict will be accompanied by a mandatory death sentence.The jury retires to a private room where the jurors spend a short while getting acquainted before they begin deliberating. It is immediately apparent that the jurors have already decided that the boy is guilty and that they plan to return their verdict without taking time for discussion with the sole exception of Juror 8  who is the only not guilty vote in a preliminary tally. He explains that there is too much at stake for him to go along with the verdict without at least talking about it first. His vote annoys the other jurors especially Juror 7  who has tickets to a baseball game that evening; and Juror 10  who believes that people from slum backgrounds are liars wild and dangerous.The rest of the films focus is the jurys difficulty in reaching a unanimous verdict. While several of the jurors harbor personal prejudices Juror 8 maintains that the evidence presented in the case is circumstantial and that the boy deserves a fair deliberation. He calls into question the accuracy and reliability of the only two witnesses to the murder the rarity of the murder weapon (a common switchblade of which he has an identical copy) and the overall questionable circumstances. He further argues that he cannot in good conscience vote guilty when he feels there is reasonable doubt of the boys guilt.Having argued several points and gotten no favorable response from the others Juror 8 reluctantly agrees that he has only succeeded in hanging the jury. Instead he requests another vote this time by secret ballot. He proposes that he will abstain from voting and if the other 11 jurors are still unanimous in a guilty vote then he will acquiesce to their decision. The secret ballot is held and a new not guilty vote appears. This earns intense criticism from Juror 3  who blatantly accuses Juror 5  who had grown up in a slum of switching out of sympathy toward slum children. However Juror 9  reveals that he himself changed his vote feeling that Juror 8s points deserve further discussion.Juror 8 presents a convincing argument that one of the witnesses an elderly man who claimed to have heard the boy yell Im going to kill you shortly before the murder took place could not have heard the voices as clearly as he had testified due to an elevated train passing by at the time; as well as stating that Im going to kill you is often said by people who do not literally mean it. Juror 5 changes his vote to not guilty. Soon afterward Juror 11  questions whether it is reasonable to suppose the defendant would have fled the scene having cleaned the knife of fingerprints but leaving it behind and then come back three hours later to retrieve it (having been left in his fathers chest). Juror 11 then changes his vote.Juror 8 then mentions the mans second claim: upon hearing the fathers body hit the floor he had run to the door of his apartment and seen the defendant running out of the building from his front door in 15 seconds. Jurors 5 6 and 8 question whether this is true as the witness in question had had a stroke limiting his ability to walk. Upon the end of an experiment the jury finds that the witness would not have made it to the door in enough time to actually see the killer running out. Juror 8 concludes that judging from what he claims to have heard earlier the witness must have merely assumed it was the defendant running. Juror 3 growing more irritated throughout the process explodes in a rant: Hes got to burn! Hes slipping through our fingers! Juror 8 takes him to task calling him a self-appointed public avenger and a sadist saying he wants the defendant to die because of personal desire rather than the facts. Juror 3 shouts Ill kill him! and starts lunging at Juror 8 but is restrained by Jurors 5 and 7. Juror 8 calmly retorts You dont really mean youll kill me do you? proving his previous point.Jurors 2  and 6  also decide to vote not guilty tying the vote at 6-6. Soon after a rainstorm hits the city apparently postponing the baseball game for which Juror 7 has tickets thus allowing him to relax and pay attention with that schedule pressure relieved.Juror 4  continues to state that he does not believe the boys alibi which was being at the movies with a few friends at the time of the murder because the boy could not remember what movie he had seen when questioned by police shortly after the murder. Juror 8 explains that being under emotional stress can make you forget certain things and tests how well Juror 4 can remember the events of previous days. Juror 4 remembers with some difficulty the events of the previous five days and Juror 8 points out that he had not been under emotional stress at that time thus there was no reason to think the boy should be able to remember the particulars of the movie that he claimed to have seen.Juror 2 calls into question the prosecutions claim that the accused who was 57 tall was able to inflict the downward stab wound found on his father who was 62. Jurors 3 and 8 conduct an experiment to see if its possible for a shorter person to stab downward into a taller person. The experiment proves the possibility but Juror 5 then explains that he had grown up amidst knife fights in his neighborhood and shows through demonstrating the correct use of a switchblade that no one so much shorter than his opponent would have held a switchblade in such a way as to stab downward as the grip would have been too awkward and the act of changing hands too time-consuming. Rather someone that much shorter than his opponent would stab underhanded at an upwards angle. This revelation augments the certainty of several of the jurors in their belief that the defendant is not guilty.Increasingly impatient Juror 7 changes his vote just so that the deliberation may end which earns him the ire of Jurors 3 and 11 both on opposite sides of the discussion. Juror 11 an immigrant who has repeatedly displayed strong patriotic pride presses Juror 7 hard about using his vote frivolously and eventually Juror 7 admits that he now truly believes the defendant is not guilty.The next jurors to change their votes are Jurors 12  and the Jury Foreman  making the vote 9-3 and leaving only three dissenters: Jurors 3 4 and 10. Outraged at how the proceedings have gone Juror 10 goes into a rage on why people from the slums cannot be trusted of how they are little better than animals who gleefully kill each other off for fun. His speech offends Juror 5 who turns his back to him and one by one the rest of the jurors start turning away from him. Confused and disturbed by this reaction to his diatribe Juror 10 continues in a steadily fading voice and manner slowing to a stop with Listen to me. Listen... Juror 4 the only man still facing him tersely responds I have. Now sit down and dont open your mouth again. As Juror 10 moves to sit in a corner by himself Juror 8 speaks quietly about the evils of prejudice and the other jurors slowly resume their seats.When those remaining in favor of a guilty vote are pressed as to why they still maintain that there is no reasonable doubt Juror 4 states his belief that despite all the other evidence that has been called into question the fact remains that the woman who saw the murder from her bedroom window across the street (through the passing train) still stands as solid evidence. After he points this out Juror 12 changes his vote back to guilty making the vote 8-4.Then Juror 9 after seeing Juror 4 rub his nose (which is being irritated by his eye glasses) realizes that like Juror 4 the woman who allegedly saw the murder had impressions in the sides of her nose which she rubbed indicating that she wore glasses but did not wear them to court out of vanity. Juror 8 cannily asks Juror 4 if he wears his eyeglasses to sleep and Juror 4 admits that he does not wear them nobody does. Juror 8 explains that there was thus no logical reason to expect that the witness happened to be wearing her glasses while trying to sleep and he points out that on her own evidence the attack happened so swiftly that she would not have had time to put them on. After he points this out Jurors 12 10 and 4 all change their vote to not guilty.At this point the only remaining juror with a guilty vote is Juror 3. Juror 3 gives a long and increasingly tortured string of arguments ending with Rotten kids you work your life out! This builds on a more emotionally ambivalent earlier revelation that his relationship with his own son is deeply strained and his anger over this fact is the main reason that he wants the defendant to be guilty. Juror 3 finally loses his temper and tears up a photo of himself and his son then suddenly breaks down crying and changes his vote to not guilty making the vote unanimous.As the jurors leave the room Juror 8 helps the distraught Juror 3 with his coat in a show of compassion. The film ends when the friendly Jurors 8  and 9  exchange names and all of the jurors descend the courthouse steps to return to their individual lives... never to see each other again.']"
      ]
     },
     "execution_count": 19,
     "metadata": {},
     "output_type": "execute_result"
    }
   ],
   "source": [
    "#Abrir Archivo\n",
    "f = open('1957_12_Angry_Men_[Drama].txt', 'r')\n",
    "sinopsis = f.read()\n",
    "f.close\n",
    "\n",
    "data = rs(sinopsis)\n",
    "data"
   ]
  },
  {
   "cell_type": "code",
   "execution_count": 20,
   "metadata": {},
   "outputs": [
    {
     "name": "stdout",
     "output_type": "stream",
     "text": [
      "[['in', 'new', 'york', 'city', 'courthouse', 'an', 'eighteen', 'year', 'old', 'boy', 'from', 'slum', 'is', 'on', 'trial', 'for', 'allegedly', 'stabbing', 'his', 'father', 'to', 'death', 'final', 'closing', 'arguments', 'having', 'been', 'presented', 'visibly', 'bored', 'judge', 'instructs', 'the', 'jury', 'to', 'decide', 'whether', 'the', 'boy', 'is', 'guilty', 'of', 'murder', 'if', 'there', 'is', 'any', 'reasonable', 'doubt', 'of', 'his', 'guilt', 'they', 'are', 'to', 'return', 'verdict', 'of', 'not', 'guilty', 'the', 'judge', 'further', 'informs', 'them', 'that', 'guilty', 'verdict', 'will', 'be', 'accompanied', 'by', 'mandatory', 'death', 'sentence', 'the', 'jury', 'retires', 'to', 'private', 'room', 'where', 'the', 'jurors', 'spend', 'short', 'while', 'getting', 'acquainted', 'before', 'they', 'begin', 'deliberating', 'it', 'is', 'immediately', 'apparent', 'that', 'the', 'jurors', 'have', 'already', 'decided', 'that', 'the', 'boy', 'is', 'guilty', 'and', 'that', 'they', 'plan', 'to', 'return', 'their', 'verdict', 'without', 'taking', 'time', 'for', 'discussion', 'with', 'the', 'sole', 'exception', 'of', 'juror', 'who', 'is', 'the', 'only', 'not', 'guilty', 'vote', 'in', 'preliminary', 'tally', 'he', 'explains', 'that', 'there', 'is', 'too', 'much', 'at', 'stake', 'for', 'him', 'to', 'go', 'along', 'with', 'the', 'verdict', 'without', 'at', 'least', 'talking', 'about', 'it', 'first', 'his', 'vote', 'annoys', 'the', 'other', 'jurors', 'especially', 'juror', 'who', 'has', 'tickets', 'to', 'baseball', 'game', 'that', 'evening', 'and', 'juror', 'who', 'believes', 'that', 'people', 'from', 'slum', 'backgrounds', 'are', 'liars', 'wild', 'and', 'dangerous', 'the', 'rest', 'of', 'the', 'films', 'focus', 'is', 'the', 'jurys', 'difficulty', 'in', 'reaching', 'unanimous', 'verdict', 'while', 'several', 'of', 'the', 'jurors', 'harbor', 'personal', 'prejudices', 'juror', 'maintains', 'that', 'the', 'evidence', 'presented', 'in', 'the', 'case', 'is', 'circumstantial', 'and', 'that', 'the', 'boy', 'deserves', 'fair', 'deliberation', 'he', 'calls', 'into', 'question', 'the', 'accuracy', 'and', 'reliability', 'of', 'the', 'only', 'two', 'witnesses', 'to', 'the', 'murder', 'the', 'rarity', 'of', 'the', 'murder', 'weapon', 'common', 'switchblade', 'of', 'which', 'he', 'has', 'an', 'identical', 'copy', 'and', 'the', 'overall', 'questionable', 'circumstances', 'he', 'further', 'argues', 'that', 'he', 'cannot', 'in', 'good', 'conscience', 'vote', 'guilty', 'when', 'he', 'feels', 'there', 'is', 'reasonable', 'doubt', 'of', 'the', 'boys', 'guilt', 'having', 'argued', 'several', 'points', 'and', 'gotten', 'no', 'favorable', 'response', 'from', 'the', 'others', 'juror', 'reluctantly', 'agrees', 'that', 'he', 'has', 'only', 'succeeded', 'in', 'hanging', 'the', 'jury', 'instead', 'he', 'requests', 'another', 'vote', 'this', 'time', 'by', 'secret', 'ballot', 'he', 'proposes', 'that', 'he', 'will', 'abstain', 'from', 'voting', 'and', 'if', 'the', 'other', 'jurors', 'are', 'still', 'unanimous', 'in', 'guilty', 'vote', 'then', 'he', 'will', 'acquiesce', 'to', 'their', 'decision', 'the', 'secret', 'ballot', 'is', 'held', 'and', 'new', 'not', 'guilty', 'vote', 'appears', 'this', 'earns', 'intense', 'criticism', 'from', 'juror', 'who', 'blatantly', 'accuses', 'juror', 'who', 'had', 'grown', 'up', 'in', 'slum', 'of', 'switching', 'out', 'of', 'sympathy', 'toward', 'slum', 'children', 'however', 'juror', 'reveals', 'that', 'he', 'himself', 'changed', 'his', 'vote', 'feeling', 'that', 'juror', 'points', 'deserve', 'further', 'discussion', 'juror', 'presents', 'convincing', 'argument', 'that', 'one', 'of', 'the', 'witnesses', 'an', 'elderly', 'man', 'who', 'claimed', 'to', 'have', 'heard', 'the', 'boy', 'yell', 'im', 'going', 'to', 'kill', 'you', 'shortly', 'before', 'the', 'murder', 'took', 'place', 'could', 'not', 'have', 'heard', 'the', 'voices', 'as', 'clearly', 'as', 'he', 'had', 'testified', 'due', 'to', 'an', 'elevated', 'train', 'passing', 'by', 'at', 'the', 'time', 'as', 'well', 'as', 'stating', 'that', 'im', 'going', 'to', 'kill', 'you', 'is', 'often', 'said', 'by', 'people', 'who', 'do', 'not', 'literally', 'mean', 'it', 'juror', 'changes', 'his', 'vote', 'to', 'not', 'guilty', 'soon', 'afterward', 'juror', 'questions', 'whether', 'it', 'is', 'reasonable', 'to', 'suppose', 'the', 'defendant', 'would', 'have', 'fled', 'the', 'scene', 'having', 'cleaned', 'the', 'knife', 'of', 'fingerprints', 'but', 'leaving', 'it', 'behind', 'and', 'then', 'come', 'back', 'three', 'hours', 'later', 'to', 'retrieve', 'it', 'having', 'been', 'left', 'in', 'his', 'fathers', 'chest', 'juror', 'then', 'changes', 'his', 'vote', 'juror', 'then', 'mentions', 'the', 'mans', 'second', 'claim', 'upon', 'hearing', 'the', 'fathers', 'body', 'hit', 'the', 'floor', 'he', 'had', 'run', 'to', 'the', 'door', 'of', 'his', 'apartment', 'and', 'seen', 'the', 'defendant', 'running', 'out', 'of', 'the', 'building', 'from', 'his', 'front', 'door', 'in', 'seconds', 'jurors', 'and', 'question', 'whether', 'this', 'is', 'true', 'as', 'the', 'witness', 'in', 'question', 'had', 'had', 'stroke', 'limiting', 'his', 'ability', 'to', 'walk', 'upon', 'the', 'end', 'of', 'an', 'experiment', 'the', 'jury', 'finds', 'that', 'the', 'witness', 'would', 'not', 'have', 'made', 'it', 'to', 'the', 'door', 'in', 'enough', 'time', 'to', 'actually', 'see', 'the', 'killer', 'running', 'out', 'juror', 'concludes', 'that', 'judging', 'from', 'what', 'he', 'claims', 'to', 'have', 'heard', 'earlier', 'the', 'witness', 'must', 'have', 'merely', 'assumed', 'it', 'was', 'the', 'defendant', 'running', 'juror', 'growing', 'more', 'irritated', 'throughout', 'the', 'process', 'explodes', 'in', 'rant', 'hes', 'got', 'to', 'burn', 'hes', 'slipping', 'through', 'our', 'fingers', 'juror', 'takes', 'him', 'to', 'task', 'calling', 'him', 'self', 'appointed', 'public', 'avenger', 'and', 'sadist', 'saying', 'he', 'wants', 'the', 'defendant', 'to', 'die', 'because', 'of', 'personal', 'desire', 'rather', 'than', 'the', 'facts', 'juror', 'shouts', 'ill', 'kill', 'him', 'and', 'starts', 'lunging', 'at', 'juror', 'but', 'is', 'restrained', 'by', 'jurors', 'and', 'juror', 'calmly', 'retorts', 'you', 'dont', 'really', 'mean', 'youll', 'kill', 'me', 'do', 'you', 'proving', 'his', 'previous', 'point', 'jurors', 'and', 'also', 'decide', 'to', 'vote', 'not', 'guilty', 'tying', 'the', 'vote', 'at', 'soon', 'after', 'rainstorm', 'hits', 'the', 'city', 'apparently', 'postponing', 'the', 'baseball', 'game', 'for', 'which', 'juror', 'has', 'tickets', 'thus', 'allowing', 'him', 'to', 'relax', 'and', 'pay', 'attention', 'with', 'that', 'schedule', 'pressure', 'relieved', 'juror', 'continues', 'to', 'state', 'that', 'he', 'does', 'not', 'believe', 'the', 'boys', 'alibi', 'which', 'was', 'being', 'at', 'the', 'movies', 'with', 'few', 'friends', 'at', 'the', 'time', 'of', 'the', 'murder', 'because', 'the', 'boy', 'could', 'not', 'remember', 'what', 'movie', 'he', 'had', 'seen', 'when', 'questioned', 'by', 'police', 'shortly', 'after', 'the', 'murder', 'juror', 'explains', 'that', 'being', 'under', 'emotional', 'stress', 'can', 'make', 'you', 'forget', 'certain', 'things', 'and', 'tests', 'how', 'well', 'juror', 'can', 'remember', 'the', 'events', 'of', 'previous', 'days', 'juror', 'remembers', 'with', 'some', 'difficulty', 'the', 'events', 'of', 'the', 'previous', 'five', 'days', 'and', 'juror', 'points', 'out', 'that', 'he', 'had', 'not', 'been', 'under', 'emotional', 'stress', 'at', 'that', 'time', 'thus', 'there', 'was', 'no', 'reason', 'to', 'think', 'the', 'boy', 'should', 'be', 'able', 'to', 'remember', 'the', 'particulars', 'of', 'the', 'movie', 'that', 'he', 'claimed', 'to', 'have', 'seen', 'juror', 'calls', 'into', 'question', 'the', 'prosecutions', 'claim', 'that', 'the', 'accused', 'who', 'was', 'tall', 'was', 'able', 'to', 'inflict', 'the', 'downward', 'stab', 'wound', 'found', 'on', 'his', 'father', 'who', 'was', 'jurors', 'and', 'conduct', 'an', 'experiment', 'to', 'see', 'if', 'its', 'possible', 'for', 'shorter', 'person', 'to', 'stab', 'downward', 'into', 'taller', 'person', 'the', 'experiment', 'proves', 'the', 'possibility', 'but', 'juror', 'then', 'explains', 'that', 'he', 'had', 'grown', 'up', 'amidst', 'knife', 'fights', 'in', 'his', 'neighborhood', 'and', 'shows', 'through', 'demonstrating', 'the', 'correct', 'use', 'of', 'switchblade', 'that', 'no', 'one', 'so', 'much', 'shorter', 'than', 'his', 'opponent', 'would', 'have', 'held', 'switchblade', 'in', 'such', 'way', 'as', 'to', 'stab', 'downward', 'as', 'the', 'grip', 'would', 'have', 'been', 'too', 'awkward', 'and', 'the', 'act', 'of', 'changing', 'hands', 'too', 'time', 'consuming', 'rather', 'someone', 'that', 'much', 'shorter', 'than', 'his', 'opponent', 'would', 'stab', 'underhanded', 'at', 'an', 'upwards', 'angle', 'this', 'revelation', 'augments', 'the', 'certainty', 'of', 'several', 'of', 'the', 'jurors', 'in', 'their', 'belief', 'that', 'the', 'defendant', 'is', 'not', 'guilty', 'increasingly', 'impatient', 'juror', 'changes', 'his', 'vote', 'just', 'so', 'that', 'the', 'deliberation', 'may', 'end', 'which', 'earns', 'him', 'the', 'ire', 'of', 'jurors', 'and', 'both', 'on', 'opposite', 'sides', 'of', 'the', 'discussion', 'juror', 'an', 'immigrant', 'who', 'has', 'repeatedly', 'displayed', 'strong', 'patriotic', 'pride', 'presses', 'juror', 'hard', 'about', 'using', 'his', 'vote', 'frivolously', 'and', 'eventually', 'juror', 'admits', 'that', 'he', 'now', 'truly', 'believes', 'the', 'defendant', 'is', 'not', 'guilty', 'the', 'next', 'jurors', 'to', 'change', 'their', 'votes', 'are', 'jurors', 'and', 'the', 'jury', 'foreman', 'making', 'the', 'vote', 'and', 'leaving', 'only', 'three', 'dissenters', 'jurors', 'and', 'outraged', 'at', 'how', 'the', 'proceedings', 'have', 'gone', 'juror', 'goes', 'into', 'rage', 'on', 'why', 'people', 'from', 'the', 'slums', 'cannot', 'be', 'trusted', 'of', 'how', 'they', 'are', 'little', 'better', 'than', 'animals', 'who', 'gleefully', 'kill', 'each', 'other', 'off', 'for', 'fun', 'his', 'speech', 'offends', 'juror', 'who', 'turns', 'his', 'back', 'to', 'him', 'and', 'one', 'by', 'one', 'the', 'rest', 'of', 'the', 'jurors', 'start', 'turning', 'away', 'from', 'him', 'confused', 'and', 'disturbed', 'by', 'this', 'reaction', 'to', 'his', 'diatribe', 'juror', 'continues', 'in', 'steadily', 'fading', 'voice', 'and', 'manner', 'slowing', 'to', 'stop', 'with', 'listen', 'to', 'me', 'listen', 'juror', 'the', 'only', 'man', 'still', 'facing', 'him', 'tersely', 'responds', 'have', 'now', 'sit', 'down', 'and', 'dont', 'open', 'your', 'mouth', 'again', 'as', 'juror', 'moves', 'to', 'sit', 'in', 'corner', 'by', 'himself', 'juror', 'speaks', 'quietly', 'about', 'the', 'evils', 'of', 'prejudice', 'and', 'the', 'other', 'jurors', 'slowly', 'resume', 'their', 'seats', 'when', 'those', 'remaining', 'in', 'favor', 'of', 'guilty', 'vote', 'are', 'pressed', 'as', 'to', 'why', 'they', 'still', 'maintain', 'that', 'there', 'is', 'no', 'reasonable', 'doubt', 'juror', 'states', 'his', 'belief', 'that', 'despite', 'all', 'the', 'other', 'evidence', 'that', 'has', 'been', 'called', 'into', 'question', 'the', 'fact', 'remains', 'that', 'the', 'woman', 'who', 'saw', 'the', 'murder', 'from', 'her', 'bedroom', 'window', 'across', 'the', 'street', 'through', 'the', 'passing', 'train', 'still', 'stands', 'as', 'solid', 'evidence', 'after', 'he', 'points', 'this', 'out', 'juror', 'changes', 'his', 'vote', 'back', 'to', 'guilty', 'making', 'the', 'vote', 'then', 'juror', 'after', 'seeing', 'juror', 'rub', 'his', 'nose', 'which', 'is', 'being', 'irritated', 'by', 'his', 'eye', 'glasses', 'realizes', 'that', 'like', 'juror', 'the', 'woman', 'who', 'allegedly', 'saw', 'the', 'murder', 'had', 'impressions', 'in', 'the', 'sides', 'of', 'her', 'nose', 'which', 'she', 'rubbed', 'indicating', 'that', 'she', 'wore', 'glasses', 'but', 'did', 'not', 'wear', 'them', 'to', 'court', 'out', 'of', 'vanity', 'juror', 'cannily', 'asks', 'juror', 'if', 'he', 'wears', 'his', 'eyeglasses', 'to', 'sleep', 'and', 'juror', 'admits', 'that', 'he', 'does', 'not', 'wear', 'them', 'nobody', 'does', 'juror', 'explains', 'that', 'there', 'was', 'thus', 'no', 'logical', 'reason', 'to', 'expect', 'that', 'the', 'witness', 'happened', 'to', 'be', 'wearing', 'her', 'glasses', 'while', 'trying', 'to', 'sleep', 'and', 'he', 'points', 'out', 'that', 'on', 'her', 'own', 'evidence', 'the', 'attack', 'happened', 'so', 'swiftly', 'that', 'she', 'would', 'not', 'have', 'had', 'time', 'to', 'put', 'them', 'on', 'after', 'he', 'points', 'this', 'out', 'jurors', 'and', 'all', 'change', 'their', 'vote', 'to', 'not', 'guilty', 'at', 'this', 'point', 'the', 'only', 'remaining', 'juror', 'with', 'guilty', 'vote', 'is', 'juror', 'juror', 'gives', 'long', 'and', 'increasingly', 'tortured', 'string', 'of', 'arguments', 'ending', 'with', 'rotten', 'kids', 'you', 'work', 'your', 'life', 'out', 'this', 'builds', 'on', 'more', 'emotionally', 'ambivalent', 'earlier', 'revelation', 'that', 'his', 'relationship', 'with', 'his', 'own', 'son', 'is', 'deeply', 'strained', 'and', 'his', 'anger', 'over', 'this', 'fact', 'is', 'the', 'main', 'reason', 'that', 'he', 'wants', 'the', 'defendant', 'to', 'be', 'guilty', 'juror', 'finally', 'loses', 'his', 'temper', 'and', 'tears', 'up', 'photo', 'of', 'himself', 'and', 'his', 'son', 'then', 'suddenly', 'breaks', 'down', 'crying', 'and', 'changes', 'his', 'vote', 'to', 'not', 'guilty', 'making', 'the', 'vote', 'unanimous', 'as', 'the', 'jurors', 'leave', 'the', 'room', 'juror', 'helps', 'the', 'distraught', 'juror', 'with', 'his', 'coat', 'in', 'show', 'of', 'compassion', 'the', 'film', 'ends', 'when', 'the', 'friendly', 'jurors', 'and', 'exchange', 'names', 'and', 'all', 'of', 'the', 'jurors', 'descend', 'the', 'courthouse', 'steps', 'to', 'return', 'to', 'their', 'individual', 'lives', 'never', 'to', 'see', 'each', 'other', 'again']]\n"
     ]
    }
   ],
   "source": [
    "data_words = list(sent_to_words(data))\n",
    "print(data_words)"
   ]
  },
  {
   "cell_type": "code",
   "execution_count": 21,
   "metadata": {
    "scrolled": true
   },
   "outputs": [
    {
     "name": "stdout",
     "output_type": "stream",
     "text": [
      "[['new', 'york', 'city', 'courthouse', 'eighteen', 'year', 'old', 'boy', 'slum', 'trial', 'allegedly', 'stabbing', 'father', 'death', 'final', 'closing', 'arguments', 'presented', 'visibly', 'bored', 'judge', 'instructs', 'jury', 'decide', 'whether', 'boy', 'guilty', 'murder', 'reasonable', 'doubt', 'guilt', 'return', 'verdict', 'guilty', 'judge', 'informs', 'guilty', 'verdict', 'accompanied', 'mandatory', 'death', 'sentence', 'jury', 'retires', 'private', 'room', 'jurors', 'spend', 'short', 'getting', 'acquainted', 'begin', 'deliberating', 'immediately', 'apparent', 'jurors', 'already', 'decided', 'boy', 'guilty', 'plan', 'return', 'verdict', 'without', 'taking', 'time', 'discussion', 'exception', 'juror', 'guilty', 'vote', 'preliminary', 'explains', 'much', 'stake', 'go', 'along', 'verdict', 'without', 'least', 'talking', 'first', 'vote', 'annoys', 'jurors', 'especially', 'juror', 'tickets', 'baseball', 'game', 'evening', 'juror', 'believes', 'people', 'slum', 'backgrounds', 'liars', 'wild', 'dangerous', 'rest', 'films', 'focus', 'jurys', 'difficulty', 'reaching', 'unanimous', 'verdict', 'several', 'jurors', 'harbor', 'personal', 'prejudices', 'juror', 'maintains', 'evidence', 'presented', 'case', 'circumstantial', 'boy', 'deserves', 'fair', 'deliberation', 'calls', 'question', 'accuracy', 'reliability', 'two', 'witnesses', 'murder', 'rarity', 'murder', 'weapon', 'common', 'switchblade', 'identical', 'copy', 'overall', 'questionable', 'circumstances', 'argues', 'cannot', 'good', 'conscience', 'vote', 'guilty', 'feels', 'reasonable', 'doubt', 'boys', 'guilt', 'argued', 'several', 'points', 'gotten', 'favorable', 'response', 'others', 'juror', 'reluctantly', 'agrees', 'succeeded', 'hanging', 'jury', 'instead', 'requests', 'another', 'vote', 'time', 'secret', 'ballot', 'proposes', 'abstain', 'voting', 'jurors', 'still', 'unanimous', 'guilty', 'vote', 'acquiesce', 'decision', 'secret', 'ballot', 'held', 'new', 'guilty', 'vote', 'appears', 'earns', 'intense', 'criticism', 'juror', 'blatantly', 'accuses', 'juror', 'grown', 'slum', 'switching', 'sympathy', 'toward', 'slum', 'children', 'however', 'juror', 'reveals', 'changed', 'vote', 'feeling', 'juror', 'points', 'deserve', 'discussion', 'juror', 'presents', 'convincing', 'argument', 'one', 'witnesses', 'elderly', 'claimed', 'heard', 'boy', 'yell', 'im', 'going', 'kill', 'shortly', 'murder', 'took', 'place', 'could', 'heard', 'voices', 'clearly', 'testified', 'due', 'elevated', 'train', 'passing', 'time', 'well', 'stating', 'im', 'going', 'kill', 'often', 'people', 'literally', 'mean', 'juror', 'changes', 'vote', 'guilty', 'afterward', 'juror', 'questions', 'whether', 'reasonable', 'suppose', 'defendant', 'would', 'fled', 'scene', 'cleaned', 'knife', 'fingerprints', 'leaving', 'behind', 'come', 'back', 'three', 'hours', 'later', 'retrieve', 'left', 'fathers', 'chest', 'juror', 'changes', 'vote', 'juror', 'mentions', 'mans', 'second', 'claim', 'upon', 'hearing', 'fathers', 'body', 'hit', 'floor', 'run', 'door', 'apartment', 'seen', 'defendant', 'running', 'building', 'front', 'door', 'seconds', 'jurors', 'question', 'whether', 'true', 'witness', 'question', 'stroke', 'limiting', 'ability', 'walk', 'upon', 'end', 'experiment', 'jury', 'finds', 'witness', 'would', 'made', 'door', 'enough', 'time', 'actually', 'killer', 'running', 'juror', 'concludes', 'judging', 'claims', 'heard', 'earlier', 'witness', 'must', 'merely', 'assumed', 'defendant', 'running', 'juror', 'growing', 'irritated', 'throughout', 'process', 'explodes', 'rant', 'hes', 'got', 'burn', 'hes', 'slipping', 'fingers', 'juror', 'takes', 'task', 'calling', 'self', 'appointed', 'public', 'avenger', 'sadist', 'saying', 'wants', 'defendant', 'die', 'personal', 'rather', 'facts', 'juror', 'shouts', 'ill', 'kill', 'starts', 'lunging', 'juror', 'restrained', 'jurors', 'juror', 'calmly', 'retorts', 'dont', 'really', 'mean', 'youll', 'kill', 'proving', 'previous', 'point', 'jurors', 'also', 'decide', 'vote', 'guilty', 'tying', 'vote', 'rainstorm', 'hits', 'city', 'apparently', 'postponing', 'baseball', 'game', 'juror', 'tickets', 'thus', 'allowing', 'relax', 'pay', 'attention', 'schedule', 'pressure', 'relieved', 'juror', 'continues', 'state', 'believe', 'boys', 'alibi', 'movies', 'friends', 'time', 'murder', 'boy', 'could', 'remember', 'movie', 'seen', 'questioned', 'police', 'shortly', 'murder', 'juror', 'explains', 'emotional', 'stress', 'make', 'forget', 'certain', 'things', 'tests', 'well', 'juror', 'remember', 'events', 'previous', 'days', 'juror', 'remembers', 'difficulty', 'events', 'previous', 'five', 'days', 'juror', 'points', 'emotional', 'stress', 'time', 'thus', 'reason', 'think', 'boy', 'able', 'remember', 'particulars', 'movie', 'claimed', 'seen', 'juror', 'calls', 'question', 'prosecutions', 'claim', 'accused', 'tall', 'able', 'inflict', 'downward', 'stab', 'wound', 'found', 'father', 'jurors', 'conduct', 'experiment', 'possible', 'shorter', 'person', 'stab', 'downward', 'taller', 'person', 'experiment', 'proves', 'possibility', 'juror', 'explains', 'grown', 'amidst', 'knife', 'fights', 'neighborhood', 'shows', 'demonstrating', 'correct', 'use', 'switchblade', 'one', 'much', 'shorter', 'opponent', 'would', 'held', 'switchblade', 'way', 'stab', 'downward', 'grip', 'would', 'awkward', 'act', 'changing', 'hands', 'time', 'consuming', 'rather', 'someone', 'much', 'shorter', 'opponent', 'would', 'stab', 'underhanded', 'upwards', 'revelation', 'augments', 'certainty', 'several', 'jurors', 'belief', 'defendant', 'guilty', 'increasingly', 'impatient', 'juror', 'changes', 'vote', 'deliberation', 'end', 'earns', 'ire', 'jurors', 'opposite', 'sides', 'discussion', 'juror', 'immigrant', 'repeatedly', 'displayed', 'strong', 'patriotic', 'pride', 'presses', 'juror', 'hard', 'using', 'vote', 'frivolously', 'eventually', 'juror', 'admits', 'truly', 'believes', 'defendant', 'guilty', 'next', 'jurors', 'change', 'votes', 'jurors', 'jury', 'foreman', 'making', 'vote', 'leaving', 'three', 'dissenters', 'jurors', 'outraged', 'proceedings', 'gone', 'juror', 'goes', 'rage', 'people', 'slums', 'cannot', 'trusted', 'little', 'better', 'animals', 'gleefully', 'kill', 'fun', 'speech', 'offends', 'juror', 'turns', 'back', 'one', 'one', 'rest', 'jurors', 'start', 'turning', 'away', 'confused', 'disturbed', 'reaction', 'diatribe', 'juror', 'continues', 'steadily', 'fading', 'voice', 'manner', 'slowing', 'stop', 'listen', 'listen', 'juror', 'still', 'facing', 'tersely', 'responds', 'sit', 'dont', 'open', 'mouth', 'juror', 'moves', 'sit', 'corner', 'juror', 'speaks', 'quietly', 'evils', 'prejudice', 'jurors', 'slowly', 'resume', 'seats', 'remaining', 'favor', 'guilty', 'vote', 'pressed', 'still', 'maintain', 'reasonable', 'doubt', 'juror', 'states', 'belief', 'despite', 'evidence', 'called', 'question', 'fact', 'remains', 'woman', 'saw', 'murder', 'bedroom', 'window', 'across', 'street', 'passing', 'train', 'still', 'stands', 'solid', 'evidence', 'points', 'juror', 'changes', 'vote', 'back', 'guilty', 'making', 'vote', 'juror', 'seeing', 'juror', 'rub', 'nose', 'irritated', 'eye', 'glasses', 'realizes', 'like', 'juror', 'woman', 'allegedly', 'saw', 'murder', 'impressions', 'sides', 'nose', 'rubbed', 'indicating', 'wore', 'glasses', 'wear', 'court', 'vanity', 'juror', 'cannily', 'asks', 'juror', 'wears', 'eyeglasses', 'sleep', 'juror', 'admits', 'wear', 'nobody', 'juror', 'explains', 'thus', 'logical', 'reason', 'expect', 'witness', 'happened', 'wearing', 'glasses', 'trying', 'sleep', 'points', 'evidence', 'attack', 'happened', 'swiftly', 'would', 'time', 'put', 'points', 'jurors', 'change', 'vote', 'guilty', 'point', 'remaining', 'juror', 'guilty', 'vote', 'juror', 'juror', 'gives', 'increasingly', 'tortured', 'string', 'arguments', 'ending', 'rotten', 'kids', 'work', 'life', 'builds', 'emotionally', 'ambivalent', 'earlier', 'revelation', 'relationship', 'deeply', 'strained', 'anger', 'fact', 'main', 'reason', 'wants', 'defendant', 'guilty', 'juror', 'finally', 'loses', 'temper', 'tears', 'photo', 'suddenly', 'breaks', 'crying', 'changes', 'vote', 'guilty', 'making', 'vote', 'unanimous', 'jurors', 'leave', 'room', 'juror', 'helps', 'distraught', 'juror', 'coat', 'show', 'compassion', 'film', 'ends', 'friendly', 'jurors', 'exchange', 'names', 'jurors', 'descend', 'courthouse', 'steps', 'return', 'individual', 'lives', 'never']]\n"
     ]
    }
   ],
   "source": [
    "data_words_nonstop = rsw(data_words, stop)\n",
    "print(data_words_nonstop)"
   ]
  },
  {
   "cell_type": "code",
   "execution_count": 22,
   "metadata": {
    "scrolled": true
   },
   "outputs": [
    {
     "name": "stdout",
     "output_type": "stream",
     "text": [
      "['courthouse year old boy slum trial allegedly stab father death final closing argument present visibly bored instruct jury decide boy guilty murder reasonable doubt guilt return verdict guilty judge inform guilty verdict accompany mandatory death sentence jury retire private room juror spend short get acquaint begin deliberate immediately apparent juror already decide boy guilty plan return verdict take time discussion exception guilty vote preliminary explain much stake go verdict least talk first vote annoy juror especially game evening believe people slum background liar wild dangerous rest focus jurys difficulty reach unanimous verdict several juror harbor personal prejudice maintain evidence present case circumstantial boy deserve fair deliberation call question accuracy reliability witness murder rarity murder weapon common identical copy overall questionable circumstance argue can good conscience vote guilty feel reasonable doubt boy guilt argue several point get favorable response other juror reluctantly agree succeed hang jury instead request vote time secret ballot propose abstain voting juror still unanimous guilty vote acquiesce decision secret ballot hold new guilty vote appear earn intense criticism blatantly accuse slum switching sympathy slum child however juror reveal change vote feeling juror point deserve juror present convincing argument witness elderly claim hear boy be go kill shortly murder take place could hear voice clearly testify due elevated train passing time well state be go kill often people literally mean juror change vote guilty afterward juror question reasonable suppose defendant would flee scene clean knife fingerprint leave behind come back hour later retrieve leave father chest juror change vote mention man second claim hear father body hit floor run door apartment see defendant run building front door second juror question true witness question stroke limit ability walk end experiment jury find witness would make door enough time actually killer conclude judge claim hear early witness must merely assume defendant run juror grow irritated process explode rant s get burn s slip finger take task call self appoint sadist say want defendant die personal rather fact juror shout ill kill start lunge juror restrain juror calmly really mean will kill prove previous point juror also decide vote guilty tying vote rainstorm hit city apparently postpone baseball game juror ticket thus allow relax pay attention schedule pressure relieve continue state believe boy alibi movie friend time murder boy could remember movie see question police shortly murder explain emotional stress make forget certain thing test juror remember event previous day juror remember difficulty event previous day juror point emotional stress time thus reason think boy able remember particular movie claim see question prosecution claim accuse tall able inflict stab find father juror conduct experiment possible short person stab downward tall person experiment prove explain grow knife fight neighborhood show demonstrate correct use switchblade much short opponent would hold switchblade way stab downward grip would awkward act change hand time consume rather much short opponent would stab underhanded upwards revelation augment certainty several juror belief defendant guilty increasingly impatient juror change vote deliberation end earn ire juror opposite side immigrant repeatedly display strong patriotic pride press hard use vote frivolously eventually admit truly believe defendant guilty next juror change vote juror jury foreman make vote leave dissenter juror outrage proceeding go juror go rage people slum can trust little well animal gleefully kill fun speech offend turn back rest juror start turn away confused disturbed reaction juror continue steadily fading voice manner slow stop listen juror still face tersely respond sit open mouth juror move sit corner speak quietly evil prejudice juror slowly resume seat remain favor guilty vote press still maintain reasonable doubt juror belief evidence call question fact remain woman see murder bedroom window street pass train still stand solid evidence point juror change vote guilty making vote see nose irritated eye glass realize allegedly see murder impression side nose rub indicate wear glass wear court cannily ask wear eyeglasse admit wear juror explain thus logical reason expect witness happen wear glass try sleep point evidence attack happen swiftly would time put point juror change vote guilty point remain guilty vote give increasingly torture string argument end rotten kid work life build emotionally ambivalent early revelation relationship deeply strain anger fact main reason want defendant guilty juror finally lose temper tear photo suddenly break cry change vote guilty making vote unanimous juror leave room juror help distraught film end friendly juror exchange name juror descend courthouse step return individual life never']\n"
     ]
    }
   ],
   "source": [
    "data_lemmatized = lm(data_words_nonstop, allowed_postags=['NOUN', 'ADJ', 'ADV', 'VERB'])\n",
    "print(data_lemmatized)"
   ]
  },
  {
   "cell_type": "code",
   "execution_count": 23,
   "metadata": {},
   "outputs": [],
   "source": [
    "data_vectorized = vec.transform(data_lemmatized)"
   ]
  },
  {
   "cell_type": "code",
   "execution_count": 24,
   "metadata": {},
   "outputs": [],
   "source": [
    "lda_output = mod.transform(data_vectorized)"
   ]
  },
  {
   "cell_type": "code",
   "execution_count": 25,
   "metadata": {},
   "outputs": [],
   "source": [
    "df_relevance, genre, df_topic_keywords = dtgw(mod, lda_output, vec)"
   ]
  },
  {
   "cell_type": "code",
   "execution_count": 26,
   "metadata": {},
   "outputs": [
    {
     "data": {
      "text/html": [
       "<div>\n",
       "<style scoped>\n",
       "    .dataframe tbody tr th:only-of-type {\n",
       "        vertical-align: middle;\n",
       "    }\n",
       "\n",
       "    .dataframe tbody tr th {\n",
       "        vertical-align: top;\n",
       "    }\n",
       "\n",
       "    .dataframe thead th {\n",
       "        text-align: right;\n",
       "    }\n",
       "</style>\n",
       "<table border=\"1\" class=\"dataframe\">\n",
       "  <thead>\n",
       "    <tr style=\"text-align: right;\">\n",
       "      <th></th>\n",
       "      <th>Topic0</th>\n",
       "      <th>Topic1</th>\n",
       "      <th>Topic2</th>\n",
       "      <th>Topic3</th>\n",
       "      <th>Topic4</th>\n",
       "      <th>Topic5</th>\n",
       "      <th>Topic6</th>\n",
       "      <th>Topic7</th>\n",
       "      <th>Topic8</th>\n",
       "      <th>Topic9</th>\n",
       "      <th>dominant_topic</th>\n",
       "      <th>genre</th>\n",
       "    </tr>\n",
       "  </thead>\n",
       "  <tbody>\n",
       "    <tr>\n",
       "      <th>Sinopsis</th>\n",
       "      <td>0.0</td>\n",
       "      <td>0.04</td>\n",
       "      <td>0.0</td>\n",
       "      <td>0.18</td>\n",
       "      <td>0.41</td>\n",
       "      <td>0.17</td>\n",
       "      <td>0.0</td>\n",
       "      <td>0.0</td>\n",
       "      <td>0.2</td>\n",
       "      <td>0.0</td>\n",
       "      <td>4</td>\n",
       "      <td>crime</td>\n",
       "    </tr>\n",
       "  </tbody>\n",
       "</table>\n",
       "</div>"
      ],
      "text/plain": [
       "          Topic0  Topic1  Topic2  Topic3  Topic4  Topic5  Topic6  Topic7  \\\n",
       "Sinopsis     0.0    0.04     0.0    0.18    0.41    0.17     0.0     0.0   \n",
       "\n",
       "          Topic8  Topic9  dominant_topic  genre  \n",
       "Sinopsis     0.2     0.0               4  crime  "
      ]
     },
     "execution_count": 26,
     "metadata": {},
     "output_type": "execute_result"
    }
   ],
   "source": [
    "df_relevance"
   ]
  },
  {
   "cell_type": "code",
   "execution_count": 27,
   "metadata": {},
   "outputs": [
    {
     "data": {
      "text/plain": [
       "'crime'"
      ]
     },
     "execution_count": 27,
     "metadata": {},
     "output_type": "execute_result"
    }
   ],
   "source": [
    "genre"
   ]
  },
  {
   "cell_type": "code",
   "execution_count": 28,
   "metadata": {},
   "outputs": [
    {
     "data": {
      "text/html": [
       "<div>\n",
       "<style scoped>\n",
       "    .dataframe tbody tr th:only-of-type {\n",
       "        vertical-align: middle;\n",
       "    }\n",
       "\n",
       "    .dataframe tbody tr th {\n",
       "        vertical-align: top;\n",
       "    }\n",
       "\n",
       "    .dataframe thead th {\n",
       "        text-align: right;\n",
       "    }\n",
       "</style>\n",
       "<table border=\"1\" class=\"dataframe\">\n",
       "  <thead>\n",
       "    <tr style=\"text-align: right;\">\n",
       "      <th></th>\n",
       "      <th>Word 0</th>\n",
       "      <th>Word 1</th>\n",
       "      <th>Word 2</th>\n",
       "      <th>Word 3</th>\n",
       "      <th>Word 4</th>\n",
       "      <th>Word 5</th>\n",
       "      <th>Word 6</th>\n",
       "      <th>Word 7</th>\n",
       "      <th>Word 8</th>\n",
       "      <th>Word 9</th>\n",
       "      <th>Word 10</th>\n",
       "      <th>Word 11</th>\n",
       "      <th>Word 12</th>\n",
       "      <th>Word 13</th>\n",
       "      <th>Word 14</th>\n",
       "    </tr>\n",
       "  </thead>\n",
       "  <tbody>\n",
       "    <tr>\n",
       "      <th>4</th>\n",
       "      <td>police</td>\n",
       "      <td>car</td>\n",
       "      <td>money</td>\n",
       "      <td>gun</td>\n",
       "      <td>man</td>\n",
       "      <td>murder</td>\n",
       "      <td>officer</td>\n",
       "      <td>drug</td>\n",
       "      <td>later</td>\n",
       "      <td>shoot</td>\n",
       "      <td>cop</td>\n",
       "      <td>dead</td>\n",
       "      <td>case</td>\n",
       "      <td>death</td>\n",
       "      <td>phone</td>\n",
       "    </tr>\n",
       "  </tbody>\n",
       "</table>\n",
       "</div>"
      ],
      "text/plain": [
       "   Word 0 Word 1 Word 2 Word 3 Word 4  Word 5   Word 6 Word 7 Word 8 Word 9  \\\n",
       "4  police    car  money    gun    man  murder  officer   drug  later  shoot   \n",
       "\n",
       "  Word 10 Word 11 Word 12 Word 13 Word 14  \n",
       "4     cop    dead    case   death   phone  "
      ]
     },
     "execution_count": 28,
     "metadata": {},
     "output_type": "execute_result"
    }
   ],
   "source": [
    "df_topic_keywords"
   ]
  },
  {
   "cell_type": "code",
   "execution_count": 29,
   "metadata": {},
   "outputs": [
    {
     "name": "stdout",
     "output_type": "stream",
     "text": [
      "-152441.02409168426 5.723486579907784e+105\n"
     ]
    }
   ],
   "source": [
    "loglikelihood, perplexity = met(mod, data_vectorized)\n",
    "print(loglikelihood, perplexity)"
   ]
  },
  {
   "cell_type": "code",
   "execution_count": 30,
   "metadata": {},
   "outputs": [],
   "source": [
    "plot(mod, data_vectorized, vec)"
   ]
  }
 ],
 "metadata": {
  "kernelspec": {
   "display_name": "Python 3",
   "language": "python",
   "name": "python3"
  },
  "language_info": {
   "codemirror_mode": {
    "name": "ipython",
    "version": 3
   },
   "file_extension": ".py",
   "mimetype": "text/x-python",
   "name": "python",
   "nbconvert_exporter": "python",
   "pygments_lexer": "ipython3",
   "version": "3.7.3"
  }
 },
 "nbformat": 4,
 "nbformat_minor": 2
}
